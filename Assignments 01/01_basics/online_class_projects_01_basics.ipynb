{
  "nbformat": 4,
  "nbformat_minor": 0,
  "metadata": {
    "colab": {
      "provenance": [],
      "authorship_tag": "ABX9TyMVOvt7AeLX0DBpX9DX8GZV",
      "include_colab_link": true
    },
    "kernelspec": {
      "name": "python3",
      "display_name": "Python 3"
    },
    "language_info": {
      "name": "python"
    }
  },
  "cells": [
    {
      "cell_type": "markdown",
      "metadata": {
        "id": "view-in-github",
        "colab_type": "text"
      },
      "source": [
        "<a href=\"https://colab.research.google.com/github/soobiarao14/Assingment_4_projcet_python/blob/main/Assignments%2001/01_basics/online_class_projects_01_basics.ipynb\" target=\"_parent\"><img src=\"https://colab.research.google.com/assets/colab-badge.svg\" alt=\"Open In Colab\"/></a>"
      ]
    },
    {
      "cell_type": "code",
      "execution_count": null,
      "metadata": {
        "colab": {
          "base_uri": "https://localhost:8080/"
        },
        "id": "brBkbFqrJFpN",
        "outputId": "28e6dd91-6e91-417c-e00b-ab2d75b2b511"
      },
      "outputs": [
        {
          "output_type": "stream",
          "name": "stdout",
          "text": [
            "00_joke_bot\n",
            "🤖 00_joke_bot is ready!\n",
            "What do you want? happy\n",
            "Sorry, I only tell jokes.\n"
          ]
        }
      ],
      "source": [
        "print(\"00_joke_bot\")\n",
        "PROMPT: str = \"What do you want? \"\n",
        "JOKE: str = \"Why don’t skeletons fight each other?\\nBecause they don’t have the guts! 😆\"\n",
        "SORRY: str = \"Sorry, I only tell jokes.\"\n",
        "\n",
        "def main():\n",
        "    print(\"🤖 00_joke_bot is ready!\")\n",
        "    user_input = input(PROMPT)\n",
        "    user_input = user_input.strip().lower()\n",
        "\n",
        "    if \"joke\" in user_input:\n",
        "        print(JOKE)\n",
        "    else:\n",
        "        print(SORRY)\n",
        "\n",
        "if __name__ == \"__main__\":\n",
        "    main()\n"
      ]
    },
    {
      "cell_type": "code",
      "source": [
        "\n",
        "print(\"01_double_it\")\n",
        "\n",
        "\n",
        "\n",
        "import time\n",
        "\n",
        "def main():\n",
        "    print(\"🎲 Welcome to double_it!\")\n",
        "    user_value = int(input(\"Enter a number: \"))\n",
        "\n",
        "    while user_value < 100:\n",
        "        print(f\"🔄 Doubling {user_value}...\")\n",
        "        time.sleep(0.5)\n",
        "        user_value *= 2\n",
        "        print(f\"✨ New Value: {user_value}\\n\")\n",
        "\n",
        "    print(\"🎉 Done! Your number is now 100 or more!\")\n",
        "\n",
        "if __name__ == \"__main__\":\n",
        "    main()\n"
      ],
      "metadata": {
        "colab": {
          "base_uri": "https://localhost:8080/"
        },
        "id": "e8TNy7eHMeG0",
        "outputId": "23de02b0-86a3-480e-f020-4ae15cbcadb5"
      },
      "execution_count": null,
      "outputs": [
        {
          "output_type": "stream",
          "name": "stdout",
          "text": [
            "01_double_it\n",
            "🎲 Welcome to 01_double_it!\n",
            "Enter a number: 5\n",
            "🔄 Doubling 5...\n",
            "✨ New Value: 10\n",
            "\n",
            "🔄 Doubling 10...\n",
            "✨ New Value: 20\n",
            "\n",
            "🔄 Doubling 20...\n",
            "✨ New Value: 40\n",
            "\n",
            "🔄 Doubling 40...\n",
            "✨ New Value: 80\n",
            "\n",
            "🔄 Doubling 80...\n",
            "✨ New Value: 160\n",
            "\n",
            "🎉 Done! Your number is now 100 or more!\n"
          ]
        }
      ]
    },
    {
      "cell_type": "code",
      "source": [
        "def main():\n",
        "    print(\"02_liftoff\")\n",
        "\n",
        "    for i in range(10, 0, -1):\n",
        "        print(i, end=\" \")\n",
        "    print(\"liftoff🚀\")\n",
        "\n",
        "if __name__ == \"__main__\":\n",
        "    main()\n"
      ],
      "metadata": {
        "colab": {
          "base_uri": "https://localhost:8080/"
        },
        "id": "uh8kxCuINMtF",
        "outputId": "b7ef0377-7a89-4499-f784-615162c8616e"
      },
      "execution_count": null,
      "outputs": [
        {
          "output_type": "stream",
          "name": "stdout",
          "text": [
            "02_liftoff\n",
            "10 9 8 7 6 5 4 3 2 1 liftoff🚀\n"
          ]
        }
      ]
    },
    {
      "cell_type": "code",
      "source": [
        "import random\n",
        "\n",
        "def main():\n",
        "    print(\"🎯 03_guess_my_number\\n\")\n",
        "\n",
        "    secret_number = random.randint(1, 100)\n",
        "    print(\"I am thinking of a number between 1 and 100...\")\n",
        "\n",
        "    guess = int(input(\"Enter a guess: \"))\n",
        "\n",
        "    while guess != secret_number:\n",
        "        if guess < secret_number:\n",
        "            print(\"Your guess is too low.\")\n",
        "        else:\n",
        "            print(\"Your guess is too high.\")\n",
        "        guess = int(input(\"Enter a guess: \"))\n",
        "\n",
        "    print(f\"🎉 Congratulations! The number was {secret_number}.\")\n",
        "\n",
        "if __name__ == \"__main__\":\n",
        "    main()\n"
      ],
      "metadata": {
        "colab": {
          "base_uri": "https://localhost:8080/"
        },
        "id": "8AOSX0EyNnCX",
        "outputId": "8c158515-15c7-44c1-b6c7-46e5a509b68c"
      },
      "execution_count": null,
      "outputs": [
        {
          "output_type": "stream",
          "name": "stdout",
          "text": [
            "🎯 03_guess_my_number\n",
            "\n",
            "I am thinking of a number between 1 and 100...\n",
            "Enter a guess: 4\n",
            "Your guess is too low.\n",
            "Enter a guess: 19\n",
            "Your guess is too low.\n",
            "Enter a guess: 92\n",
            "Your guess is too high.\n",
            "Enter a guess: 01\n",
            "Your guess is too low.\n",
            "Enter a guess: 89\n",
            "Your guess is too high.\n",
            "Enter a guess: 93\n",
            "Your guess is too high.\n",
            "Enter a guess: 85\n",
            "Your guess is too high.\n",
            "Enter a guess: 929\n",
            "Your guess is too high.\n",
            "Enter a guess: 14\n",
            "Your guess is too low.\n",
            "Enter a guess: 40\n",
            "Your guess is too high.\n",
            "Enter a guess: 60\n",
            "Your guess is too high.\n",
            "Enter a guess: 70\n",
            "Your guess is too high.\n",
            "Enter a guess: 100\n",
            "Your guess is too high.\n",
            "Enter a guess: 80\n",
            "Your guess is too high.\n",
            "Enter a guess: 30\n",
            "Your guess is too high.\n",
            "Enter a guess: 90\n",
            "Your guess is too high.\n",
            "Enter a guess: 72\n",
            "Your guess is too high.\n",
            "Enter a guess: 89\n",
            "Your guess is too high.\n",
            "Enter a guess: 16\n",
            "Your guess is too low.\n",
            "Enter a guess: 35\n",
            "Your guess is too high.\n",
            "Enter a guess: 67\n",
            "Your guess is too high.\n",
            "Enter a guess: 25\n",
            "Your guess is too low.\n",
            "Enter a guess: 20\n",
            "Your guess is too low.\n",
            "Enter a guess: 50\n",
            "Your guess is too high.\n",
            "Enter a guess: 25\n",
            "Your guess is too low.\n",
            "Enter a guess: 39\n",
            "Your guess is too high.\n",
            "Enter a guess: 37\n",
            "Your guess is too high.\n",
            "Enter a guess: 32\n",
            "Your guess is too high.\n",
            "Enter a guess: 29\n",
            "🎉 Congratulations! The number was 29.\n"
          ]
        }
      ]
    },
    {
      "cell_type": "code",
      "source": [
        "import random\n",
        "print(\"04_random_numbers\")\n",
        "\n",
        "def main():\n",
        "  for _ in range(10):\n",
        "    print(random.randint(1,100),end = \" \")\n",
        "\n",
        "if __name__ == \"__main__\":\n",
        "  main()\n"
      ],
      "metadata": {
        "colab": {
          "base_uri": "https://localhost:8080/"
        },
        "id": "WwXztB5EOM-8",
        "outputId": "c80e3a4e-8330-4005-af91-df441ef9d4fb"
      },
      "execution_count": null,
      "outputs": [
        {
          "output_type": "stream",
          "name": "stdout",
          "text": [
            "04_random_numbers\n",
            "74 23 33 93 34 84 9 90 70 61 "
          ]
        }
      ]
    }
  ]
}