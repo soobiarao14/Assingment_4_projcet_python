{
  "nbformat": 4,
  "nbformat_minor": 0,
  "metadata": {
    "colab": {
      "provenance": [],
      "authorship_tag": "ABX9TyNp5Ss29noNTZY/vNxVuVZx",
      "include_colab_link": true
    },
    "kernelspec": {
      "name": "python3",
      "display_name": "Python 3"
    },
    "language_info": {
      "name": "python"
    }
  },
  "cells": [
    {
      "cell_type": "markdown",
      "metadata": {
        "id": "view-in-github",
        "colab_type": "text"
      },
      "source": [
        "<a href=\"https://colab.research.google.com/github/soobiarao14/Assingment_4_projcet_python/blob/main/Assignments%2001/02_intermediate/02_intermediate_Lists_and_Dicts.ipynb\" target=\"_parent\"><img src=\"https://colab.research.google.com/assets/colab-badge.svg\" alt=\"Open In Colab\"/></a>"
      ]
    },
    {
      "cell_type": "code",
      "execution_count": 1,
      "metadata": {
        "colab": {
          "base_uri": "https://localhost:8080/"
        },
        "id": "U9a2C3Czqtwu",
        "outputId": "2a15768a-c06f-4bff-f8a1-b5e104693a33"
      },
      "outputs": [
        {
          "output_type": "stream",
          "name": "stdout",
          "text": [
            "Collecting colorama\n",
            "  Downloading colorama-0.4.6-py2.py3-none-any.whl.metadata (17 kB)\n",
            "Downloading colorama-0.4.6-py2.py3-none-any.whl (25 kB)\n",
            "Installing collected packages: colorama\n",
            "Successfully installed colorama-0.4.6\n",
            "🎮💥 Welcome to the Pakistan Cricket Team List Manipulation Game 💥🎮\n",
            "***************************************************************\n",
            "\n",
            "\n",
            "Current Pakistan Cricket Team: ['Babar Azam', 'Shaheen Afridi', 'Rizwan', 'Fakhar Zaman', 'Shadab Khan', 'Haris Rauf', 'Imam-ul-Haq', 'Mohammad Nawaz', 'Mohammad Amir', 'Asif Ali']\n",
            "\n",
            "Select an operation:\n",
            "1. Access Player\n",
            "2. Modify Player\n",
            "3. Slice List\n",
            "4. Quit\n",
            "\u001b[32mEnter your choice (1-4): 1\n",
            "\u001b[32mEnter the index of the player you want to access: 2\n",
            "✅ Player at index 2: Rizwan\n",
            "\n",
            "Current Pakistan Cricket Team: ['Babar Azam', 'Shaheen Afridi', 'Rizwan', 'Fakhar Zaman', 'Shadab Khan', 'Haris Rauf', 'Imam-ul-Haq', 'Mohammad Nawaz', 'Mohammad Amir', 'Asif Ali']\n",
            "\n",
            "Select an operation:\n",
            "1. Access Player\n",
            "2. Modify Player\n",
            "3. Slice List\n",
            "4. Quit\n",
            "\u001b[32mEnter your choice (1-4): 3\n",
            "\u001b[32mEnter the start index for the slice: 4\n",
            "\u001b[32mEnter the end index for the slice: 0\n",
            "Sliced list: []\n",
            "\n",
            "Current Pakistan Cricket Team: ['Babar Azam', 'Shaheen Afridi', 'Rizwan', 'Fakhar Zaman', 'Shadab Khan', 'Haris Rauf', 'Imam-ul-Haq', 'Mohammad Nawaz', 'Mohammad Amir', 'Asif Ali']\n",
            "\n",
            "Select an operation:\n",
            "1. Access Player\n",
            "2. Modify Player\n",
            "3. Slice List\n",
            "4. Quit\n",
            "\u001b[32mEnter your choice (1-4): 4\n",
            "🚀 Exiting the game. Thanks for playing! Goodbye! ✨\n",
            "\n",
            "🛸 Welcome to the List Manipulation Game! 🛸\n"
          ]
        }
      ],
      "source": [
        "!pip install colorama\n",
        "from colorama import Fore, Style, init\n",
        "\n",
        "# Initialize Colorama\n",
        "init(autoreset=True)\n",
        "\n",
        "print(Fore.CYAN + \"🎮💥 Welcome to the Pakistan Cricket Team List Manipulation Game 💥🎮\")\n",
        "print(Fore.CYAN + \"***************************************************************\\n\")\n",
        "\n",
        "# Updated list with Pakistan Cricket Team\n",
        "my_list = [\"Babar Azam\", \"Shaheen Afridi\", \"Rizwan\", \"Fakhar Zaman\", \"Shadab Khan\",\n",
        "           \"Haris Rauf\", \"Imam-ul-Haq\", \"Mohammad Nawaz\", \"Mohammad Amir\", \"Asif Ali\"]\n",
        "\n",
        "def access_element(my_list, index):\n",
        "    \"\"\"Returns the element at the specified index, or an error message if out of range.\"\"\"\n",
        "    if 0 <= index < len(my_list):\n",
        "        return Fore.GREEN + f'✅ Player at index {index}: {my_list[index]}'\n",
        "    return Fore.RED + \"❌ Index out of range!\"\n",
        "\n",
        "def modify_element(my_list, index, new_value):\n",
        "    \"\"\"Modifies the element at the specified index with the new value.\"\"\"\n",
        "    if 0 <= index < len(my_list):\n",
        "        old_value = my_list[index]\n",
        "        my_list[index] = new_value\n",
        "        return Fore.YELLOW + f'🔄 Player at index {index} modified from {old_value} to {new_value}'\n",
        "    return Fore.RED + \"❌ Index out of range!\"\n",
        "\n",
        "def slice_list(my_list, start, end):\n",
        "    \"\"\"Returns a new list containing the elements from the start index to the end index (exclusive).\"\"\"\n",
        "    if 0 <= start < len(my_list) and 0 <= end <= len(my_list):\n",
        "        return Fore.CYAN + f'Sliced list: {my_list[start:end]}'\n",
        "    return Fore.RED + \"❌ Invalid slice indices!\"\n",
        "\n",
        "def list_game():\n",
        "    print(Fore.MAGENTA + \"\\n🛸 Welcome to the List Manipulation Game! 🛸\")\n",
        "\n",
        "while True:\n",
        "    print(Fore.BLUE + \"\\nCurrent Pakistan Cricket Team:\", my_list)\n",
        "\n",
        "    print(Fore.YELLOW + \"\\nSelect an operation:\")\n",
        "    print(Fore.YELLOW + \"1. Access Player\")\n",
        "    print(Fore.YELLOW + \"2. Modify Player\")\n",
        "    print(Fore.YELLOW + \"3. Slice List\")\n",
        "    print(Fore.YELLOW + \"4. Quit\")\n",
        "\n",
        "    choice = input(Fore.GREEN + \"Enter your choice (1-4): \")\n",
        "\n",
        "    if choice == \"1\":\n",
        "        index = int(input(Fore.GREEN + \"Enter the index of the player you want to access: \"))\n",
        "        print(access_element(my_list, index))\n",
        "    elif choice == \"2\":\n",
        "        index = int(input(Fore.GREEN + \"Enter the index of the player you want to modify: \"))\n",
        "        new_value = input(Fore.GREEN + \"Enter the new name for the player: \")\n",
        "        print(modify_element(my_list, index, new_value))\n",
        "    elif choice == \"3\":\n",
        "        start = int(input(Fore.GREEN + \"Enter the start index for the slice: \"))\n",
        "        end = int(input(Fore.GREEN + \"Enter the end index for the slice: \"))\n",
        "        print(slice_list(my_list, start, end))\n",
        "    elif choice == \"4\":\n",
        "        print(Fore.MAGENTA + \"🚀 Exiting the game. Thanks for playing! Goodbye! ✨\")\n",
        "        break\n",
        "    else:\n",
        "        print(Fore.RED + \"❌ Invalid choice! Please enter a number between 1 to 4.\")\n",
        "\n",
        "if __name__ == \"__main__\":\n",
        "    list_game()"
      ]
    }
  ]
}