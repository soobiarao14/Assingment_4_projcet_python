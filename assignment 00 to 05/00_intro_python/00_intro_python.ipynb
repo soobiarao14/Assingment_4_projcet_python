{
  "nbformat": 4,
  "nbformat_minor": 0,
  "metadata": {
    "colab": {
      "provenance": [],
      "authorship_tag": "ABX9TyNtTVVXxghB7BVRNNDRcKTK",
      "include_colab_link": true
    },
    "kernelspec": {
      "name": "python3",
      "display_name": "Python 3"
    },
    "language_info": {
      "name": "python"
    }
  },
  "cells": [
    {
      "cell_type": "markdown",
      "metadata": {
        "id": "view-in-github",
        "colab_type": "text"
      },
      "source": [
        "<a href=\"https://colab.research.google.com/github/soobiarao14/Assingment_4_projcet_python/blob/main/assignment%2000%20to%2005/00_intro_python/00_intro_python.ipynb\" target=\"_parent\"><img src=\"https://colab.research.google.com/assets/colab-badge.svg\" alt=\"Open In Colab\"/></a>"
      ]
    },
    {
      "cell_type": "code",
      "execution_count": null,
      "metadata": {
        "colab": {
          "base_uri": "https://localhost:8080/"
        },
        "id": "yVcMVE2Dpcdo",
        "outputId": "31ce7c78-d958-4aef-96be-d48d4eb5861a"
      },
      "outputs": [
        {
          "output_type": "stream",
          "name": "stdout",
          "text": [
            "01_add_two_numbers\n",
            "This program adds two numbers. \n",
            "Enter first number: 7\n",
            "Enter second number: 7\n",
            "the total sum of 7 and 7 is 14\n"
          ]
        }
      ],
      "source": [
        "print(\"01_add_two_numbers\")\n",
        "def main():\n",
        "  print(\"This program adds two numbers. \")\n",
        "  first_number=int(input(\"Enter first number: \"))\n",
        "  second_number=int(input(\"Enter second number: \"))\n",
        "  total=int(first_number + second_number)\n",
        "  print(f'the total sum of {first_number} and {second_number} is {total}')\n",
        "\n",
        "# This provided line is required at the end of\n",
        "# Python file to call the main() function.\n",
        "\n",
        "if __name__ == '__main__':\n",
        "\n",
        "  main()"
      ]
    },
    {
      "cell_type": "code",
      "source": [
        "print(\"02_agreement_bot\")\n",
        "\n",
        "def main():\n",
        "    animal = input(\"What's your favorite animal ? \")\n",
        "    print(f'My favorite animal is also {animal}!')\n",
        "\n",
        "    # This provided line is required at the end of\n",
        "# Python file to call the main() function.\n",
        "\n",
        "if __name__ == \"__main__\":\n",
        "    main()"
      ],
      "metadata": {
        "colab": {
          "base_uri": "https://localhost:8080/"
        },
        "id": "FRGwK0mZy0Xl",
        "outputId": "a3f37d71-c015-4f44-f5d7-073fd97556ae"
      },
      "execution_count": null,
      "outputs": [
        {
          "output_type": "stream",
          "name": "stdout",
          "text": [
            "02_agreement_bot\n",
            "What's your favorite animal ? cat\n",
            "My favorite animal is also cat!\n"
          ]
        }
      ]
    },
    {
      "cell_type": "code",
      "source": [
        "print(\"03_fahrenheit_to_celsius\")\n",
        "\n",
        "def main():\n",
        "    print(\"This code is for converting Fahrenheit to Celsius\")\n",
        "    fahrenheit_degree = float(input(\"Enter your Fahrenheit degree: \"))\n",
        "    celsius_degree = (fahrenheit_degree - 32) * 5 / 9.0\n",
        "    print(f'Temperature {fahrenheit_degree}F = {celsius_degree:.2f}C')\n",
        "\n",
        "    # This provided line is required at the end of\n",
        "# Python file to call the main() function.\n",
        "\n",
        "if __name__ == \"__main__\":\n",
        "    main()\n",
        "\n",
        "\n"
      ],
      "metadata": {
        "colab": {
          "base_uri": "https://localhost:8080/"
        },
        "id": "FzHAsTVN0paT",
        "outputId": "7d7dc784-d6b2-41b1-a000-8d4ccfc9bbff"
      },
      "execution_count": null,
      "outputs": [
        {
          "output_type": "stream",
          "name": "stdout",
          "text": [
            "03_fahrenheit_to_celsius\n",
            "This code is for converting Fahrenheit to Celsius\n",
            "Enter your Fahrenheit degree: 67\n",
            "Temperature 67.0F = 19.44C\n"
          ]
        }
      ]
    },
    {
      "cell_type": "code",
      "source": [
        "print(\"04_how_old_are_they\")\n",
        "\n",
        "def main():\n",
        "    anton: int = 21  # Anton's age is given as 21 years old\n",
        "    beth: int = 6 + anton  # Beth is 6 years older than Anton\n",
        "    chen: int = 20 + beth  # Chen is 20 years older than Beth\n",
        "    drew: int = chen + anton  # Drew is as old as Chen's age plus Anton's age\n",
        "    ethan: int = chen  # Ethan's age is equal to Chen's age\n",
        "\n",
        "    # Print out all of the ages!\n",
        "\n",
        "    print(f\"Anton is {anton} years old.\")\n",
        "    print(f\"Beth is {beth} years old.\")\n",
        "    print(f\"Chen is {chen} years old.\")\n",
        "    print(f\"Drew is {drew} years old.\")\n",
        "    print(f\"Ethan is {ethan} years old.\")\n",
        "\n",
        "\n",
        "\n",
        "\n",
        "  #  # Print out all of the ages!\n",
        "  #   print(\"Anton is \" + str(anton))\n",
        "  #   print(\"Beth is \" + str(beth))\n",
        "  #   print(\"Chen is \" + str(chen))\n",
        "  #   print(\"Drew is \" + str(drew))\n",
        "  #   print(\"Ethan is \" + str(ethan))\n",
        "\n",
        "\n",
        "    # This provided line is required at the end of\n",
        "# Python file to call the main() function.\n",
        "\n",
        "if __name__ == \"__main__\":\n",
        "    main()\n"
      ],
      "metadata": {
        "colab": {
          "base_uri": "https://localhost:8080/"
        },
        "id": "x05Reb5E-XNw",
        "outputId": "1f8f3c18-7878-423d-abbb-e057b3066caa"
      },
      "execution_count": null,
      "outputs": [
        {
          "output_type": "stream",
          "name": "stdout",
          "text": [
            "04_how_old_are_they\n",
            "Anton is 21 years old.\n",
            "Beth is 27 years old.\n",
            "Chen is 47 years old.\n",
            "Drew is 68 years old.\n",
            "Ethan is 47 years old.\n"
          ]
        }
      ]
    },
    {
      "cell_type": "code",
      "source": [
        "\n",
        "\n",
        "\n",
        "print(\"05_triangle_perimeter\")\n",
        "\n",
        "def triangle(a, b, c):\n",
        "    \"\"\"Check if three sides can form a valid triangle.\"\"\"\n",
        "    return a + b > c and a + c > b and b + c > a\n",
        "\n",
        "def main():\n",
        "    print(\"This program calculates the perimeter of a triangle.\")\n",
        "\n",
        "    try:\n",
        "        # Get the 3 side lengths of the triangle\n",
        "        side1 = float(input(\"Enter the first side of the triangle: \"))\n",
        "        side2 = float(input(\"Enter the second side of the triangle: \"))\n",
        "        side3 = float(input(\"Enter the third side of the triangle: \"))\n",
        "\n",
        "        # Validate input values\n",
        "        if side1 <= 0 or side2 <= 0 or side3 <= 0:\n",
        "            print(\"Error: Side lengths must be positive numbers.\")\n",
        "            return\n",
        "\n",
        "        # Check if the sides form a valid triangle\n",
        "        if triangle(side1, side2, side3):\n",
        "            perimeter = side1 + side2 + side3\n",
        "            print(f\"The perimeter of the triangle is: {perimeter:.2f}\")\n",
        "        else:\n",
        "            print(\"Error: The given sides do not form a valid triangle.\")\n",
        "\n",
        "    except ValueError:\n",
        "        print(\"Invalid input! Please enter numeric values.\")\n",
        "\n",
        "            # This provided line is required at the end of\n",
        "# Python file to call the main() function.\n",
        "\n",
        "\n",
        "if __name__ == '__main__':\n",
        "    main()\n",
        "\n",
        "\n"
      ],
      "metadata": {
        "colab": {
          "base_uri": "https://localhost:8080/"
        },
        "id": "FV_T6KANJMnL",
        "outputId": "9633986c-059e-44aa-e487-9142b781c3db"
      },
      "execution_count": null,
      "outputs": [
        {
          "output_type": "stream",
          "name": "stdout",
          "text": [
            "05_triangle_perimeter\n",
            "This program calculates the perimeter of a triangle.\n",
            "Enter the first side of the triangle: 6\n",
            "Enter the second side of the triangle: 6\n",
            "Enter the third side of the triangle: 4.7\n",
            "The perimeter of the triangle is: 16.70\n"
          ]
        }
      ]
    },
    {
      "cell_type": "code",
      "source": [
        "print(\"06_square_number\")\n",
        "\n",
        "\n",
        "\n",
        "\n",
        "def main():\n",
        "    try:\n",
        "        num = float(input(\"Type a number to see its square: \"))  # Convert input to float\n",
        "        print(f\"{num} squared is {num ** 2}\")  # Use f-string for better readability\n",
        "    except ValueError:\n",
        "        print(\"Invalid input! Please enter a valid number.\")  # Handle non-numeric input\n",
        "\n",
        "if __name__ == '__main__':\n",
        "    main()\n"
      ],
      "metadata": {
        "colab": {
          "base_uri": "https://localhost:8080/"
        },
        "id": "bJfQeVUwTCUJ",
        "outputId": "20722fdf-e80d-4884-a03d-c514618f5622"
      },
      "execution_count": null,
      "outputs": [
        {
          "output_type": "stream",
          "name": "stdout",
          "text": [
            "06_square_number\n",
            "Type a number to see its square: 12\n",
            "12.0 squared is 144.0\n"
          ]
        }
      ]
    }
  ]
}