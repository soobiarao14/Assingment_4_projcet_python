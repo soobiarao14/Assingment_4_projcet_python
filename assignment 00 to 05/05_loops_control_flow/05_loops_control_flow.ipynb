{
  "nbformat": 4,
  "nbformat_minor": 0,
  "metadata": {
    "colab": {
      "provenance": [],
      "authorship_tag": "ABX9TyNuXouj/e2Vtvq5BpY5MgCz",
      "include_colab_link": true
    },
    "kernelspec": {
      "name": "python3",
      "display_name": "Python 3"
    },
    "language_info": {
      "name": "python"
    }
  },
  "cells": [
    {
      "cell_type": "markdown",
      "metadata": {
        "id": "view-in-github",
        "colab_type": "text"
      },
      "source": [
        "<a href=\"https://colab.research.google.com/github/soobiarao14/Assingment_4_projcet_python/blob/main/assignment%2000%20to%2005/05_loops_control_flow/05_loops_control_flow.ipynb\" target=\"_parent\"><img src=\"https://colab.research.google.com/assets/colab-badge.svg\" alt=\"Open In Colab\"/></a>"
      ]
    },
    {
      "cell_type": "code",
      "execution_count": null,
      "metadata": {
        "colab": {
          "base_uri": "https://localhost:8080/"
        },
        "id": "jnt0p8IzKTMo",
        "outputId": "621491e5-a95a-4776-8c4a-27b50d171f2b"
      },
      "outputs": [
        {
          "output_type": "stream",
          "name": "stdout",
          "text": [
            "00_guess_my_number.\n",
            "I am thinking of a number between 1 and 100....\n",
            "Enter a guess: 19\n",
            "Your guess is too low.\n",
            "Enter a guess: 91\n",
            "Your guess is too high.\n",
            "Enter a guess: 81\n",
            "Your guess is too high.\n",
            "Enter a guess: 71\n",
            "Your guess is too high.\n",
            "Enter a guess: 67\n",
            "Your guess is too high.\n",
            "Enter a guess: 98\n",
            "Your guess is too high.\n",
            "Enter a guess: 34\n",
            "Your guess is too low.\n",
            "Enter a guess: 36\n",
            "Your guess is too low.\n",
            "Enter a guess: 73\n",
            "Your guess is too high.\n",
            "Enter a guess: 70\n",
            "Your guess is too high.\n",
            "Enter a guess: 100\n",
            "Your guess is too high.\n",
            "Enter a guess: 187\n",
            "Your guess is too high.\n",
            "Enter a guess: 56\n",
            "Your guess is too high.\n",
            "Enter a guess: 89\n",
            "Your guess is too high.\n",
            "Enter a guess: 50\n",
            "Your guess is too high.\n",
            "Enter a guess: 13\n",
            "Your guess is too low.\n",
            "Enter a guess: 81\n",
            "Your guess is too high.\n",
            "Enter a guess: 49\n",
            "Your guess is too high.\n",
            "Enter a guess: 81\n",
            "Your guess is too high.\n",
            "Enter a guess: 82\n",
            "Your guess is too high.\n",
            "Enter a guess: 40\n",
            "Congratulation! The number was 40\n"
          ]
        }
      ],
      "source": [
        "import random\n",
        "\n",
        "print(\"00_guess_my_number.\")\n",
        "\n",
        "def main():\n",
        "  secret_number = random.randint(1,100)\n",
        "  print(\"I am thinking of a number between 1 and 100....\")\n",
        "\n",
        "  guess = int(input(\"Enter a guess: \"))\n",
        "\n",
        "  while guess != secret_number:\n",
        "    if guess < secret_number:\n",
        "      print(\"Your guess is too low.\")\n",
        "    else:\n",
        "      print(\"Your guess is too high.\")\n",
        "    guess = int(input(\"Enter a guess: \"))\n",
        "\n",
        "  print(f\"Congratulation! The number was {secret_number}\")\n",
        "\n",
        "\n",
        "if __name__ == \"__main__\":\n",
        "  main()\n"
      ]
    },
    {
      "cell_type": "code",
      "source": [
        "print(\"01_fibonacci\")\n",
        "\n",
        "max_value = 10000\n",
        "\n",
        "def main():\n",
        "  a,b = 0,1\n",
        "  print(a,b, end = \" \")\n",
        "\n",
        "  while True:\n",
        "    c = a+b\n",
        "    if c >= max_value:\n",
        "      break\n",
        "    print(c, end=\" \")\n",
        "    a,b = b,c\n",
        "\n",
        "if __name__ == \"__main__\":\n",
        "  main()"
      ],
      "metadata": {
        "colab": {
          "base_uri": "https://localhost:8080/"
        },
        "id": "dahboGLUMUCr",
        "outputId": "c2a9fae3-1c83-4fe6-d064-659817bc4506"
      },
      "execution_count": null,
      "outputs": [
        {
          "output_type": "stream",
          "name": "stdout",
          "text": [
            "01_fibonacci\n",
            "0 1 1 2 3 5 8 13 21 34 55 89 144 233 377 610 987 1597 2584 4181 6765 "
          ]
        }
      ]
    },
    {
      "cell_type": "code",
      "source": [
        "print(\"02_print_events\")\n",
        "\n",
        "def main():\n",
        "  for i in range(20):\n",
        "    print(i*2)\n",
        "\n",
        "if __name__ == \"__main__\":\n",
        "  main()\n"
      ],
      "metadata": {
        "colab": {
          "base_uri": "https://localhost:8080/"
        },
        "id": "rTKONIFTNOSK",
        "outputId": "74e87c1c-0c42-4264-8ca6-86dd6b6c569b"
      },
      "execution_count": null,
      "outputs": [
        {
          "output_type": "stream",
          "name": "stdout",
          "text": [
            "02_print_events\n",
            "0\n",
            "2\n",
            "4\n",
            "6\n",
            "8\n",
            "10\n",
            "12\n",
            "14\n",
            "16\n",
            "18\n",
            "20\n",
            "22\n",
            "24\n",
            "26\n",
            "28\n",
            "30\n",
            "32\n",
            "34\n",
            "36\n",
            "38\n"
          ]
        }
      ]
    },
    {
      "cell_type": "code",
      "source": [
        "print(\"03_wholesome_machine\")\n",
        "\n",
        "# Define the correct affirmation\n",
        "correct_affirmation = \"I am strong, confident.\"\n",
        "\n",
        "def main():\n",
        "    print(\"Welcome to the Wholesome Machine\")\n",
        "\n",
        "    while True:\n",
        "        # Prompt user to input the correct affirmation\n",
        "        user_input = input(\"Please type the following affirmation: \" + correct_affirmation + \"\\n\")\n",
        "\n",
        "        # Check if the input matches the correct affirmation\n",
        "        if user_input == correct_affirmation:\n",
        "            print(\"That's right!\")\n",
        "            break  # Exit loop when correct affirmation is entered\n",
        "        else:\n",
        "            print(\"Oops! That wasn't quite right. Give it another shot!\")\n",
        "\n",
        "# Run the main function if the script is executed directly\n",
        "if __name__ == \"__main__\":\n",
        "    main()\n"
      ],
      "metadata": {
        "colab": {
          "base_uri": "https://localhost:8080/"
        },
        "id": "HBW8mS0ET_HG",
        "outputId": "755739ce-ca31-46bd-e009-417dc304c7a4"
      },
      "execution_count": null,
      "outputs": [
        {
          "output_type": "stream",
          "name": "stdout",
          "text": [
            "03_wholesome_machine\n",
            "Welcome to the Wholesome Machine\n",
            "Please type the following affirmation: I am strong, confident.\n",
            "I am strong confident\n",
            "Oops! That wasn't quite right. Give it another shot!\n",
            "Please type the following affirmation: I am strong, confident.\n",
            "I am strong, confident.\n",
            "That's right!\n"
          ]
        }
      ]
    },
    {
      "cell_type": "code",
      "source": [
        "print(\"04_liftoff\")\n",
        "\n",
        "def main():\n",
        "  for i in range(10,0,-1):\n",
        "    print(i,end = \" \")\n",
        "  print(\"liftoff🚀\")\n",
        "\n",
        "if __name__ == \"__main__\":\n",
        "  main()"
      ],
      "metadata": {
        "colab": {
          "base_uri": "https://localhost:8080/"
        },
        "id": "Kv-nT7Z6Q3Vw",
        "outputId": "618e2c4f-4821-4918-f22e-0631dfac7d27"
      },
      "execution_count": null,
      "outputs": [
        {
          "output_type": "stream",
          "name": "stdout",
          "text": [
            "04_liftoff\n",
            "10 9 8 7 6 5 4 3 2 1 liftoff🚀\n"
          ]
        }
      ]
    },
    {
      "cell_type": "code",
      "source": [
        "print(\"05_double_it\")\n",
        "\n",
        "def main():\n",
        "  user_value = int(input(\"Enter a number: \"))\n",
        "  while user_value < 100:\n",
        "    user_value = user_value * 2\n",
        "    print(user_value)\n",
        "\n",
        "if __name__ == \"__main__\":\n",
        "  main()\n"
      ],
      "metadata": {
        "colab": {
          "base_uri": "https://localhost:8080/"
        },
        "id": "Fkyg1FshQ78n",
        "outputId": "b517ae7d-fbbb-4eb0-d252-a5058825f14a"
      },
      "execution_count": null,
      "outputs": [
        {
          "output_type": "stream",
          "name": "stdout",
          "text": [
            "05_double_it\n",
            "Enter a number: 5\n",
            "10\n",
            "20\n",
            "40\n",
            "80\n",
            "160\n"
          ]
        }
      ]
    }
  ]
}